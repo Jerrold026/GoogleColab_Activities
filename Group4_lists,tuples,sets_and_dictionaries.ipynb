{
  "nbformat": 4,
  "nbformat_minor": 0,
  "metadata": {
    "colab": {
      "provenance": []
    },
    "kernelspec": {
      "name": "python3",
      "display_name": "Python 3"
    },
    "language_info": {
      "name": "python"
    }
  },
  "cells": [
    {
      "cell_type": "markdown",
      "source": [
        "# Lists, Tuples, Sets and Dictionaries"
      ],
      "metadata": {
        "id": "x-wALN2461uD"
      }
    },
    {
      "cell_type": "markdown",
      "source": [
        "## 1) List"
      ],
      "metadata": {
        "id": "hjfl7fgi7afk"
      }
    },
    {
      "cell_type": "code",
      "source": [
        "#List - ordered sequence of elements, always uses [] to represent the list. Each item is seperated by ,.\n",
        "\n",
        "food = [\"pizza\",\"burger\",\"rice\", \"noodles\"]\n",
        "print(food)"
      ],
      "metadata": {
        "colab": {
          "base_uri": "https://localhost:8080/"
        },
        "id": "tLX1I7k-7h3s",
        "outputId": "6f73dd05-965e-4021-c382-c54553b0dda9"
      },
      "execution_count": 130,
      "outputs": [
        {
          "output_type": "stream",
          "name": "stdout",
          "text": [
            "['pizza', 'burger', 'rice', 'noodles']\n"
          ]
        }
      ]
    },
    {
      "cell_type": "code",
      "source": [
        "print(food[0])"
      ],
      "metadata": {
        "colab": {
          "base_uri": "https://localhost:8080/"
        },
        "id": "1Q90dY657mZ9",
        "outputId": "f453e578-2d7f-4aa2-8c3a-11864bee17ae"
      },
      "execution_count": 131,
      "outputs": [
        {
          "output_type": "stream",
          "name": "stdout",
          "text": [
            "pizza\n"
          ]
        }
      ]
    },
    {
      "cell_type": "code",
      "source": [
        "# to add element in list\n",
        "food.append(\"cake\")\n",
        "print(food)"
      ],
      "metadata": {
        "colab": {
          "base_uri": "https://localhost:8080/"
        },
        "id": "Ecce9C3m7qNC",
        "outputId": "3c076559-6e10-4d4d-e39a-9998c83badeb"
      },
      "execution_count": 132,
      "outputs": [
        {
          "output_type": "stream",
          "name": "stdout",
          "text": [
            "['pizza', 'burger', 'rice', 'noodles', 'cake']\n"
          ]
        }
      ]
    },
    {
      "cell_type": "code",
      "source": [
        "food.append(\"sandwhich\")\n",
        "print(food)"
      ],
      "metadata": {
        "colab": {
          "base_uri": "https://localhost:8080/"
        },
        "id": "onWmZgLN7sFm",
        "outputId": "efef094e-9093-45c2-a481-35b7180f5dfe"
      },
      "execution_count": 133,
      "outputs": [
        {
          "output_type": "stream",
          "name": "stdout",
          "text": [
            "['pizza', 'burger', 'rice', 'noodles', 'cake', 'sandwhich']\n"
          ]
        }
      ]
    },
    {
      "cell_type": "code",
      "source": [
        "food.extend([\"sandwhich\",\"pasta\"])\n",
        "print(food)"
      ],
      "metadata": {
        "colab": {
          "base_uri": "https://localhost:8080/"
        },
        "id": "tH4nlPQS8EJX",
        "outputId": "4ccaf45b-0d82-4297-9f28-40681301fd48"
      },
      "execution_count": 134,
      "outputs": [
        {
          "output_type": "stream",
          "name": "stdout",
          "text": [
            "['pizza', 'burger', 'rice', 'noodles', 'cake', 'sandwhich', 'sandwhich', 'pasta']\n"
          ]
        }
      ]
    },
    {
      "cell_type": "code",
      "source": [
        "food.extend([\"sandwhich\",\"pasta\"])\n",
        "food"
      ],
      "metadata": {
        "colab": {
          "base_uri": "https://localhost:8080/"
        },
        "id": "6nZ4hL138HIu",
        "outputId": "55787003-99b7-4fc7-d0b7-cb9ccc1ed7f8"
      },
      "execution_count": 135,
      "outputs": [
        {
          "output_type": "execute_result",
          "data": {
            "text/plain": [
              "['pizza',\n",
              " 'burger',\n",
              " 'rice',\n",
              " 'noodles',\n",
              " 'cake',\n",
              " 'sandwhich',\n",
              " 'sandwhich',\n",
              " 'pasta',\n",
              " 'sandwhich',\n",
              " 'pasta']"
            ]
          },
          "metadata": {},
          "execution_count": 135
        }
      ]
    },
    {
      "cell_type": "code",
      "source": [
        "print(food*2)"
      ],
      "metadata": {
        "colab": {
          "base_uri": "https://localhost:8080/"
        },
        "id": "4ZQY0MuB8KE-",
        "outputId": "55eed3f6-0327-46f5-87bc-1cd8e60b1cb9"
      },
      "execution_count": 136,
      "outputs": [
        {
          "output_type": "stream",
          "name": "stdout",
          "text": [
            "['pizza', 'burger', 'rice', 'noodles', 'cake', 'sandwhich', 'sandwhich', 'pasta', 'sandwhich', 'pasta', 'pizza', 'burger', 'rice', 'noodles', 'cake', 'sandwhich', 'sandwhich', 'pasta', 'sandwhich', 'pasta']\n"
          ]
        }
      ]
    },
    {
      "cell_type": "code",
      "source": [
        "food + [\"coffee\",\"tea\"]\n",
        "food"
      ],
      "metadata": {
        "colab": {
          "base_uri": "https://localhost:8080/"
        },
        "id": "wI36yz_u8bHG",
        "outputId": "6987cb45-06d7-440f-f98f-b83851640afd"
      },
      "execution_count": 137,
      "outputs": [
        {
          "output_type": "execute_result",
          "data": {
            "text/plain": [
              "['pizza',\n",
              " 'burger',\n",
              " 'rice',\n",
              " 'noodles',\n",
              " 'cake',\n",
              " 'sandwhich',\n",
              " 'sandwhich',\n",
              " 'pasta',\n",
              " 'sandwhich',\n",
              " 'pasta']"
            ]
          },
          "metadata": {},
          "execution_count": 137
        }
      ]
    },
    {
      "cell_type": "code",
      "source": [
        "food = food + [\"coffee\",\"tea\"]\n",
        "food"
      ],
      "metadata": {
        "colab": {
          "base_uri": "https://localhost:8080/"
        },
        "id": "HM95_QCq8c5v",
        "outputId": "6efede13-1522-4f15-a4ed-93bdd9b5950b"
      },
      "execution_count": 138,
      "outputs": [
        {
          "output_type": "execute_result",
          "data": {
            "text/plain": [
              "['pizza',\n",
              " 'burger',\n",
              " 'rice',\n",
              " 'noodles',\n",
              " 'cake',\n",
              " 'sandwhich',\n",
              " 'sandwhich',\n",
              " 'pasta',\n",
              " 'sandwhich',\n",
              " 'pasta',\n",
              " 'coffee',\n",
              " 'tea']"
            ]
          },
          "metadata": {},
          "execution_count": 138
        }
      ]
    },
    {
      "cell_type": "code",
      "source": [
        "food[1:3]"
      ],
      "metadata": {
        "colab": {
          "base_uri": "https://localhost:8080/"
        },
        "id": "qWn9JjQ48jE3",
        "outputId": "242f3288-b39f-4a3a-bb19-80c80c17dc08"
      },
      "execution_count": 139,
      "outputs": [
        {
          "output_type": "execute_result",
          "data": {
            "text/plain": [
              "['burger', 'rice']"
            ]
          },
          "metadata": {},
          "execution_count": 139
        }
      ]
    },
    {
      "cell_type": "code",
      "source": [
        "food[3]= 'Sweet'\n",
        "food"
      ],
      "metadata": {
        "colab": {
          "base_uri": "https://localhost:8080/"
        },
        "id": "gkZA1VLX8nym",
        "outputId": "5c0ed80f-2ee6-4131-f8a8-93fdc248033c"
      },
      "execution_count": 140,
      "outputs": [
        {
          "output_type": "execute_result",
          "data": {
            "text/plain": [
              "['pizza',\n",
              " 'burger',\n",
              " 'rice',\n",
              " 'Sweet',\n",
              " 'cake',\n",
              " 'sandwhich',\n",
              " 'sandwhich',\n",
              " 'pasta',\n",
              " 'sandwhich',\n",
              " 'pasta',\n",
              " 'coffee',\n",
              " 'tea']"
            ]
          },
          "metadata": {},
          "execution_count": 140
        }
      ]
    },
    {
      "cell_type": "code",
      "source": [
        "food.index('cake')"
      ],
      "metadata": {
        "colab": {
          "base_uri": "https://localhost:8080/"
        },
        "id": "XQUNWitN8xNB",
        "outputId": "0226f6d6-c73a-4b92-810b-3e3174db2430"
      },
      "execution_count": 141,
      "outputs": [
        {
          "output_type": "execute_result",
          "data": {
            "text/plain": [
              "4"
            ]
          },
          "metadata": {},
          "execution_count": 141
        }
      ]
    },
    {
      "cell_type": "code",
      "source": [
        "food.insert(3,'Paratha')\n",
        "food"
      ],
      "metadata": {
        "colab": {
          "base_uri": "https://localhost:8080/"
        },
        "id": "6VXRjwv181m2",
        "outputId": "282e2f01-5eaf-4bae-dc75-80af2225bea2"
      },
      "execution_count": 142,
      "outputs": [
        {
          "output_type": "execute_result",
          "data": {
            "text/plain": [
              "['pizza',\n",
              " 'burger',\n",
              " 'rice',\n",
              " 'Paratha',\n",
              " 'Sweet',\n",
              " 'cake',\n",
              " 'sandwhich',\n",
              " 'sandwhich',\n",
              " 'pasta',\n",
              " 'sandwhich',\n",
              " 'pasta',\n",
              " 'coffee',\n",
              " 'tea']"
            ]
          },
          "metadata": {},
          "execution_count": 142
        }
      ]
    },
    {
      "cell_type": "code",
      "source": [
        "drinks = food.remove('tea')\n",
        "print(drinks)"
      ],
      "metadata": {
        "colab": {
          "base_uri": "https://localhost:8080/"
        },
        "id": "ERW2qVdp847-",
        "outputId": "f0f6d49e-943f-49ca-9e8a-f8563889c5d9"
      },
      "execution_count": 143,
      "outputs": [
        {
          "output_type": "stream",
          "name": "stdout",
          "text": [
            "None\n"
          ]
        }
      ]
    },
    {
      "cell_type": "code",
      "source": [
        "onlyfood = food.remove('tea')\n",
        "print(onlyfood)"
      ],
      "metadata": {
        "colab": {
          "base_uri": "https://localhost:8080/",
          "height": 193
        },
        "id": "DlSxwJVh88kW",
        "outputId": "d36ea29e-d0be-4688-8869-1eac315e0581"
      },
      "execution_count": 144,
      "outputs": [
        {
          "output_type": "error",
          "ename": "ValueError",
          "evalue": "ignored",
          "traceback": [
            "\u001b[0;31m---------------------------------------------------------------------------\u001b[0m",
            "\u001b[0;31mValueError\u001b[0m                                Traceback (most recent call last)",
            "\u001b[0;32m<ipython-input-144-4615697f7867>\u001b[0m in \u001b[0;36m<cell line: 1>\u001b[0;34m()\u001b[0m\n\u001b[0;32m----> 1\u001b[0;31m \u001b[0monlyfood\u001b[0m \u001b[0;34m=\u001b[0m \u001b[0mfood\u001b[0m\u001b[0;34m.\u001b[0m\u001b[0mremove\u001b[0m\u001b[0;34m(\u001b[0m\u001b[0;34m'tea'\u001b[0m\u001b[0;34m)\u001b[0m\u001b[0;34m\u001b[0m\u001b[0;34m\u001b[0m\u001b[0m\n\u001b[0m\u001b[1;32m      2\u001b[0m \u001b[0mprint\u001b[0m\u001b[0;34m(\u001b[0m\u001b[0monlyfood\u001b[0m\u001b[0;34m)\u001b[0m\u001b[0;34m\u001b[0m\u001b[0;34m\u001b[0m\u001b[0m\n",
            "\u001b[0;31mValueError\u001b[0m: list.remove(x): x not in list"
          ]
        }
      ]
    },
    {
      "cell_type": "code",
      "source": [
        "xyz = food.remove(\"coffee\")\n",
        "print(xyz)"
      ],
      "metadata": {
        "colab": {
          "base_uri": "https://localhost:8080/"
        },
        "id": "IpOkS3sl9AVn",
        "outputId": "c68d41e6-48c3-45a7-8162-05ad6cfe795a"
      },
      "execution_count": 145,
      "outputs": [
        {
          "output_type": "stream",
          "name": "stdout",
          "text": [
            "None\n"
          ]
        }
      ]
    },
    {
      "cell_type": "code",
      "source": [
        "print(food)"
      ],
      "metadata": {
        "colab": {
          "base_uri": "https://localhost:8080/"
        },
        "id": "ppuO5t-69EfF",
        "outputId": "86243a5e-d7b9-4848-908c-d6591924a9c9"
      },
      "execution_count": 146,
      "outputs": [
        {
          "output_type": "stream",
          "name": "stdout",
          "text": [
            "['pizza', 'burger', 'rice', 'Paratha', 'Sweet', 'cake', 'sandwhich', 'sandwhich', 'pasta', 'sandwhich', 'pasta']\n"
          ]
        }
      ]
    },
    {
      "cell_type": "code",
      "source": [
        "menu = ['pizza', 'burger', 'rice', 'noodles', 'icecream', 'juice']\n",
        "print(menu)"
      ],
      "metadata": {
        "colab": {
          "base_uri": "https://localhost:8080/"
        },
        "id": "5fjQCibp9HVn",
        "outputId": "40b60f32-0cee-444f-ccbd-c4c8fffe37ff"
      },
      "execution_count": 147,
      "outputs": [
        {
          "output_type": "stream",
          "name": "stdout",
          "text": [
            "['pizza', 'burger', 'rice', 'noodles', 'icecream', 'juice']\n"
          ]
        }
      ]
    },
    {
      "cell_type": "code",
      "source": [
        "print('initial menu', menu)\n",
        "menu.reverse()\n",
        "print('reversed menu', menu)\n",
        "print(type(reversed(menu)))"
      ],
      "metadata": {
        "colab": {
          "base_uri": "https://localhost:8080/"
        },
        "id": "bRm1EBJd9M_e",
        "outputId": "dabbe931-e854-49e7-ec10-c32c936ad236"
      },
      "execution_count": 149,
      "outputs": [
        {
          "output_type": "stream",
          "name": "stdout",
          "text": [
            "initial menu ['juice', 'icecream', 'noodles', 'rice', 'burger', 'pizza']\n",
            "reversed menu ['pizza', 'burger', 'rice', 'noodles', 'icecream', 'juice']\n",
            "<class 'list_reverseiterator'>\n"
          ]
        }
      ]
    },
    {
      "cell_type": "code",
      "source": [
        "print('initial menu', menu)\n",
        "menu.sort()\n",
        "print('sorted menu',menu)"
      ],
      "metadata": {
        "colab": {
          "base_uri": "https://localhost:8080/"
        },
        "id": "yE7I20dR9cLu",
        "outputId": "40297385-36bd-42bc-8abd-3a8c124d9a25"
      },
      "execution_count": 150,
      "outputs": [
        {
          "output_type": "stream",
          "name": "stdout",
          "text": [
            "initial menu ['pizza', 'burger', 'rice', 'noodles', 'icecream', 'juice']\n",
            "sorted menu ['burger', 'icecream', 'juice', 'noodles', 'pizza', 'rice']\n"
          ]
        }
      ]
    },
    {
      "cell_type": "code",
      "source": [
        "del menu[-2]\n",
        "menu"
      ],
      "metadata": {
        "colab": {
          "base_uri": "https://localhost:8080/"
        },
        "id": "1RxgZ0Id9eu5",
        "outputId": "213cc94e-6d16-4c45-a1da-5e732007ed41"
      },
      "execution_count": 151,
      "outputs": [
        {
          "output_type": "execute_result",
          "data": {
            "text/plain": [
              "['burger', 'icecream', 'juice', 'noodles', 'rice']"
            ]
          },
          "metadata": {},
          "execution_count": 151
        }
      ]
    },
    {
      "cell_type": "code",
      "source": [
        "print(menu[2:4])"
      ],
      "metadata": {
        "colab": {
          "base_uri": "https://localhost:8080/"
        },
        "id": "q6CkzEbB9iNg",
        "outputId": "33a1d119-886b-4dbb-deac-e2cf53e8321c"
      },
      "execution_count": 152,
      "outputs": [
        {
          "output_type": "stream",
          "name": "stdout",
          "text": [
            "['juice', 'noodles']\n"
          ]
        }
      ]
    },
    {
      "cell_type": "code",
      "source": [
        "menu.remove(['juice','noodles'])\n",
        "print(menu)"
      ],
      "metadata": {
        "colab": {
          "base_uri": "https://localhost:8080/",
          "height": 193
        },
        "id": "uy8JnzTe9m37",
        "outputId": "119c0503-8e4b-4a8f-e991-6844f51ec7d0"
      },
      "execution_count": 153,
      "outputs": [
        {
          "output_type": "error",
          "ename": "ValueError",
          "evalue": "ignored",
          "traceback": [
            "\u001b[0;31m---------------------------------------------------------------------------\u001b[0m",
            "\u001b[0;31mValueError\u001b[0m                                Traceback (most recent call last)",
            "\u001b[0;32m<ipython-input-153-18e6613e25de>\u001b[0m in \u001b[0;36m<cell line: 1>\u001b[0;34m()\u001b[0m\n\u001b[0;32m----> 1\u001b[0;31m \u001b[0mmenu\u001b[0m\u001b[0;34m.\u001b[0m\u001b[0mremove\u001b[0m\u001b[0;34m(\u001b[0m\u001b[0;34m[\u001b[0m\u001b[0;34m'juice'\u001b[0m\u001b[0;34m,\u001b[0m\u001b[0;34m'noodles'\u001b[0m\u001b[0;34m]\u001b[0m\u001b[0;34m)\u001b[0m\u001b[0;34m\u001b[0m\u001b[0;34m\u001b[0m\u001b[0m\n\u001b[0m\u001b[1;32m      2\u001b[0m \u001b[0mprint\u001b[0m\u001b[0;34m(\u001b[0m\u001b[0mmenu\u001b[0m\u001b[0;34m)\u001b[0m\u001b[0;34m\u001b[0m\u001b[0;34m\u001b[0m\u001b[0m\n",
            "\u001b[0;31mValueError\u001b[0m: list.remove(x): x not in list"
          ]
        }
      ]
    },
    {
      "cell_type": "code",
      "source": [
        "print(menu)"
      ],
      "metadata": {
        "colab": {
          "base_uri": "https://localhost:8080/"
        },
        "id": "mkdfPHge9uvZ",
        "outputId": "4ca3a03e-57de-476b-fe6a-479ff4709ae0"
      },
      "execution_count": 154,
      "outputs": [
        {
          "output_type": "stream",
          "name": "stdout",
          "text": [
            "['burger', 'icecream', 'juice', 'noodles', 'rice']\n"
          ]
        }
      ]
    },
    {
      "cell_type": "code",
      "source": [
        "menu.remove('juice')\n",
        "print(menu)"
      ],
      "metadata": {
        "colab": {
          "base_uri": "https://localhost:8080/"
        },
        "id": "xx1azwVa9wA_",
        "outputId": "82889972-34c7-4934-934c-a95f8afdc3a3"
      },
      "execution_count": 155,
      "outputs": [
        {
          "output_type": "stream",
          "name": "stdout",
          "text": [
            "['burger', 'icecream', 'noodles', 'rice']\n"
          ]
        }
      ]
    },
    {
      "cell_type": "code",
      "source": [
        "print(menu)"
      ],
      "metadata": {
        "colab": {
          "base_uri": "https://localhost:8080/"
        },
        "id": "IrStqx5f9z1g",
        "outputId": "15e6c897-3e1e-4f26-f61c-74d7c9b86527"
      },
      "execution_count": 156,
      "outputs": [
        {
          "output_type": "stream",
          "name": "stdout",
          "text": [
            "['burger', 'icecream', 'noodles', 'rice']\n"
          ]
        }
      ]
    },
    {
      "cell_type": "code",
      "source": [
        "menu.remove('icecream','noodles')\n",
        "print(menu)"
      ],
      "metadata": {
        "colab": {
          "base_uri": "https://localhost:8080/",
          "height": 193
        },
        "id": "XgsyGEbk93IR",
        "outputId": "04877c11-be62-4d5a-a222-fd8916322486"
      },
      "execution_count": 157,
      "outputs": [
        {
          "output_type": "error",
          "ename": "TypeError",
          "evalue": "ignored",
          "traceback": [
            "\u001b[0;31m---------------------------------------------------------------------------\u001b[0m",
            "\u001b[0;31mTypeError\u001b[0m                                 Traceback (most recent call last)",
            "\u001b[0;32m<ipython-input-157-5c253b284250>\u001b[0m in \u001b[0;36m<cell line: 1>\u001b[0;34m()\u001b[0m\n\u001b[0;32m----> 1\u001b[0;31m \u001b[0mmenu\u001b[0m\u001b[0;34m.\u001b[0m\u001b[0mremove\u001b[0m\u001b[0;34m(\u001b[0m\u001b[0;34m'icecream'\u001b[0m\u001b[0;34m,\u001b[0m\u001b[0;34m'noodles'\u001b[0m\u001b[0;34m)\u001b[0m\u001b[0;34m\u001b[0m\u001b[0;34m\u001b[0m\u001b[0m\n\u001b[0m\u001b[1;32m      2\u001b[0m \u001b[0mprint\u001b[0m\u001b[0;34m(\u001b[0m\u001b[0mmenu\u001b[0m\u001b[0;34m)\u001b[0m\u001b[0;34m\u001b[0m\u001b[0;34m\u001b[0m\u001b[0m\n",
            "\u001b[0;31mTypeError\u001b[0m: list.remove() takes exactly one argument (2 given)"
          ]
        }
      ]
    },
    {
      "cell_type": "code",
      "source": [
        "menu_2 = ['pizza','burger', 'rice', 'noodles','icecream']\n",
        "print(menu_2)\n",
        ""
      ],
      "metadata": {
        "colab": {
          "base_uri": "https://localhost:8080/"
        },
        "id": "oxTMDGlP96bB",
        "outputId": "652861c2-7a7b-4c9e-ed76-78c9e22f075b"
      },
      "execution_count": 158,
      "outputs": [
        {
          "output_type": "stream",
          "name": "stdout",
          "text": [
            "['pizza', 'burger', 'rice', 'noodles', 'icecream']\n"
          ]
        }
      ]
    },
    {
      "cell_type": "code",
      "source": [
        "menu_2.pop()"
      ],
      "metadata": {
        "colab": {
          "base_uri": "https://localhost:8080/",
          "height": 35
        },
        "id": "s5nCfJt29-oa",
        "outputId": "678db006-4709-4a7b-9299-f92187f79e7a"
      },
      "execution_count": 159,
      "outputs": [
        {
          "output_type": "execute_result",
          "data": {
            "text/plain": [
              "'icecream'"
            ],
            "application/vnd.google.colaboratory.intrinsic+json": {
              "type": "string"
            }
          },
          "metadata": {},
          "execution_count": 159
        }
      ]
    },
    {
      "cell_type": "code",
      "source": [
        "menu_2.clear()\n",
        "print(menu_2)"
      ],
      "metadata": {
        "colab": {
          "base_uri": "https://localhost:8080/"
        },
        "id": "0sd4F4C9-DhX",
        "outputId": "b5a0e5b3-c995-488e-c73b-0426885206a2"
      },
      "execution_count": 160,
      "outputs": [
        {
          "output_type": "stream",
          "name": "stdout",
          "text": [
            "[]\n"
          ]
        }
      ]
    },
    {
      "cell_type": "markdown",
      "source": [
        "### 2) Tuples"
      ],
      "metadata": {
        "id": "i8oqzINK-GFG"
      }
    },
    {
      "cell_type": "code",
      "source": [
        "# Tuples - same as list, both contains sequence of items, mixed data types, and it contains individual elements also it is\n",
        "# immutable, it represents by ().\n",
        "\n",
        "empty = ()\n",
        "print(\"empty tuple\",empty)"
      ],
      "metadata": {
        "colab": {
          "base_uri": "https://localhost:8080/"
        },
        "id": "-iwKXjJ7-QOW",
        "outputId": "e55ae94b-b055-4245-a4ab-92f4f58730ae"
      },
      "execution_count": 161,
      "outputs": [
        {
          "output_type": "stream",
          "name": "stdout",
          "text": [
            "empty tuple ()\n"
          ]
        }
      ]
    },
    {
      "cell_type": "code",
      "source": [
        "# to create int tuple\n",
        "int = (2,1,3,4,5)\n",
        "print(int)"
      ],
      "metadata": {
        "colab": {
          "base_uri": "https://localhost:8080/"
        },
        "id": "jdkMLzED-akt",
        "outputId": "8310f4a1-6412-405e-af12-2161c3c37e20"
      },
      "execution_count": 162,
      "outputs": [
        {
          "output_type": "stream",
          "name": "stdout",
          "text": [
            "(2, 1, 3, 4, 5)\n"
          ]
        }
      ]
    },
    {
      "cell_type": "code",
      "source": [
        "#mix tuple\n",
        "mix = (4,\"Python\",4.2)\n",
        "print(mix)"
      ],
      "metadata": {
        "colab": {
          "base_uri": "https://localhost:8080/"
        },
        "id": "YzinxwX2-dUY",
        "outputId": "e1e93c2d-ccb1-4d05-bc77-42236394228d"
      },
      "execution_count": 163,
      "outputs": [
        {
          "output_type": "stream",
          "name": "stdout",
          "text": [
            "(4, 'Python', 4.2)\n"
          ]
        }
      ]
    },
    {
      "cell_type": "code",
      "source": [
        "# nested tuple\n",
        "nested = ('python', [\"int\",\"data\",\"float\"], 100)\n",
        "print(nested)"
      ],
      "metadata": {
        "colab": {
          "base_uri": "https://localhost:8080/"
        },
        "id": "bNLSjM2l-iFv",
        "outputId": "7cf6cfe4-785c-4266-ed8f-7fb78a8388e3"
      },
      "execution_count": 164,
      "outputs": [
        {
          "output_type": "stream",
          "name": "stdout",
          "text": [
            "('python', ['int', 'data', 'float'], 100)\n"
          ]
        }
      ]
    },
    {
      "cell_type": "code",
      "source": [
        "str1 = \"Python Prog\",\n",
        "print(str1)"
      ],
      "metadata": {
        "colab": {
          "base_uri": "https://localhost:8080/"
        },
        "id": "GWV2-Jeo-mqp",
        "outputId": "826b1b6d-b543-4390-e9d2-5641d3391c18"
      },
      "execution_count": 165,
      "outputs": [
        {
          "output_type": "stream",
          "name": "stdout",
          "text": [
            "('Python Prog',)\n"
          ]
        }
      ]
    },
    {
      "cell_type": "code",
      "source": [
        "Country = (\"USA\", \"China\", \"Philippine\", \"India\")\n",
        "print(Country)"
      ],
      "metadata": {
        "colab": {
          "base_uri": "https://localhost:8080/"
        },
        "id": "x3UVESz3-puo",
        "outputId": "227abddd-ed2f-4609-a80e-a9dd9fbb88cc"
      },
      "execution_count": 166,
      "outputs": [
        {
          "output_type": "stream",
          "name": "stdout",
          "text": [
            "('USA', 'China', 'Philippine', 'India')\n"
          ]
        }
      ]
    },
    {
      "cell_type": "code",
      "source": [
        "Country[2]=\"Singapore\"\n",
        "print(Country)"
      ],
      "metadata": {
        "colab": {
          "base_uri": "https://localhost:8080/",
          "height": 193
        },
        "id": "livLSFhq-sYJ",
        "outputId": "f1e97239-0dd4-4970-afe0-ab75a65abde4"
      },
      "execution_count": 167,
      "outputs": [
        {
          "output_type": "error",
          "ename": "TypeError",
          "evalue": "ignored",
          "traceback": [
            "\u001b[0;31m---------------------------------------------------------------------------\u001b[0m",
            "\u001b[0;31mTypeError\u001b[0m                                 Traceback (most recent call last)",
            "\u001b[0;32m<ipython-input-167-2522093a0d5f>\u001b[0m in \u001b[0;36m<cell line: 1>\u001b[0;34m()\u001b[0m\n\u001b[0;32m----> 1\u001b[0;31m \u001b[0mCountry\u001b[0m\u001b[0;34m[\u001b[0m\u001b[0;36m2\u001b[0m\u001b[0;34m]\u001b[0m\u001b[0;34m=\u001b[0m\u001b[0;34m\"Singapore\"\u001b[0m\u001b[0;34m\u001b[0m\u001b[0;34m\u001b[0m\u001b[0m\n\u001b[0m\u001b[1;32m      2\u001b[0m \u001b[0mprint\u001b[0m\u001b[0;34m(\u001b[0m\u001b[0mCountry\u001b[0m\u001b[0;34m)\u001b[0m\u001b[0;34m\u001b[0m\u001b[0;34m\u001b[0m\u001b[0m\n",
            "\u001b[0;31mTypeError\u001b[0m: 'tuple' object does not support item assignment"
          ]
        }
      ]
    },
    {
      "cell_type": "code",
      "source": [
        "del Country[1]"
      ],
      "metadata": {
        "colab": {
          "base_uri": "https://localhost:8080/",
          "height": 175
        },
        "id": "akJzVNS0-yoZ",
        "outputId": "35c261ba-d0ba-471f-bdad-2360aaea4a73"
      },
      "execution_count": 168,
      "outputs": [
        {
          "output_type": "error",
          "ename": "TypeError",
          "evalue": "ignored",
          "traceback": [
            "\u001b[0;31m---------------------------------------------------------------------------\u001b[0m",
            "\u001b[0;31mTypeError\u001b[0m                                 Traceback (most recent call last)",
            "\u001b[0;32m<ipython-input-168-ed195761df2a>\u001b[0m in \u001b[0;36m<cell line: 1>\u001b[0;34m()\u001b[0m\n\u001b[0;32m----> 1\u001b[0;31m \u001b[0;32mdel\u001b[0m \u001b[0mCountry\u001b[0m\u001b[0;34m[\u001b[0m\u001b[0;36m1\u001b[0m\u001b[0;34m]\u001b[0m\u001b[0;34m\u001b[0m\u001b[0;34m\u001b[0m\u001b[0m\n\u001b[0m",
            "\u001b[0;31mTypeError\u001b[0m: 'tuple' object doesn't support item deletion"
          ]
        }
      ]
    },
    {
      "cell_type": "code",
      "source": [
        "Country + (\"Singapore\",\"Japan\")\n",
        "print(Country)\n",
        "Country1 = Country + (\"Singapore\",\"Japan\")\n",
        "print(Country1)"
      ],
      "metadata": {
        "colab": {
          "base_uri": "https://localhost:8080/"
        },
        "id": "tmAkc0zc-2mG",
        "outputId": "5b96b583-187e-4217-9748-3fff6a713178"
      },
      "execution_count": 169,
      "outputs": [
        {
          "output_type": "stream",
          "name": "stdout",
          "text": [
            "('USA', 'China', 'Philippine', 'India')\n",
            "('USA', 'China', 'Philippine', 'India', 'Singapore', 'Japan')\n"
          ]
        }
      ]
    },
    {
      "cell_type": "code",
      "source": [
        "Country1.count('China')"
      ],
      "metadata": {
        "colab": {
          "base_uri": "https://localhost:8080/"
        },
        "id": "mqoLuGyM-5_v",
        "outputId": "58f61658-ca59-4eca-d4a6-802f6a9b6dd9"
      },
      "execution_count": 170,
      "outputs": [
        {
          "output_type": "execute_result",
          "data": {
            "text/plain": [
              "1"
            ]
          },
          "metadata": {},
          "execution_count": 170
        }
      ]
    },
    {
      "cell_type": "code",
      "source": [
        "ex1 = ('a','p','y','t','h','o','n','a','y')\n",
        "print(ex1.count('a'))"
      ],
      "metadata": {
        "colab": {
          "base_uri": "https://localhost:8080/"
        },
        "id": "RAAf_lgZ-8vx",
        "outputId": "481a82da-7687-4530-9cd9-120d46398ba1"
      },
      "execution_count": 171,
      "outputs": [
        {
          "output_type": "stream",
          "name": "stdout",
          "text": [
            "2\n"
          ]
        }
      ]
    },
    {
      "cell_type": "code",
      "source": [
        "print(ex1.index('y'))"
      ],
      "metadata": {
        "colab": {
          "base_uri": "https://localhost:8080/"
        },
        "id": "NpNwfoz__B6i",
        "outputId": "860374da-53fe-4d91-919e-3660c3e81aff"
      },
      "execution_count": 172,
      "outputs": [
        {
          "output_type": "stream",
          "name": "stdout",
          "text": [
            "2\n"
          ]
        }
      ]
    },
    {
      "cell_type": "code",
      "source": [
        "# to check an item available in tuple or not\n",
        "print(\"Australia\" in Country1)"
      ],
      "metadata": {
        "colab": {
          "base_uri": "https://localhost:8080/"
        },
        "id": "gT4hMhAs_FmJ",
        "outputId": "63926f65-735e-4553-d908-c0280363ae98"
      },
      "execution_count": 173,
      "outputs": [
        {
          "output_type": "stream",
          "name": "stdout",
          "text": [
            "False\n"
          ]
        }
      ]
    },
    {
      "cell_type": "code",
      "source": [
        "print(\"Singapore\" in Country1)"
      ],
      "metadata": {
        "colab": {
          "base_uri": "https://localhost:8080/"
        },
        "id": "y3tO8hX__JRe",
        "outputId": "b0d8fd51-3ce1-4418-b69b-8fbf63e35ad4"
      },
      "execution_count": 174,
      "outputs": [
        {
          "output_type": "stream",
          "name": "stdout",
          "text": [
            "True\n"
          ]
        }
      ]
    },
    {
      "cell_type": "code",
      "source": [
        "del Country1"
      ],
      "metadata": {
        "id": "XTgI7kyY_NNI"
      },
      "execution_count": 175,
      "outputs": []
    },
    {
      "cell_type": "code",
      "source": [
        "print(Country1)"
      ],
      "metadata": {
        "colab": {
          "base_uri": "https://localhost:8080/",
          "height": 175
        },
        "id": "It8_85m2_RJB",
        "outputId": "b1b94b45-c8bd-45a8-f24d-c530643a4117"
      },
      "execution_count": 176,
      "outputs": [
        {
          "output_type": "error",
          "ename": "NameError",
          "evalue": "ignored",
          "traceback": [
            "\u001b[0;31m---------------------------------------------------------------------------\u001b[0m",
            "\u001b[0;31mNameError\u001b[0m                                 Traceback (most recent call last)",
            "\u001b[0;32m<ipython-input-176-c3311df01292>\u001b[0m in \u001b[0;36m<cell line: 1>\u001b[0;34m()\u001b[0m\n\u001b[0;32m----> 1\u001b[0;31m \u001b[0mprint\u001b[0m\u001b[0;34m(\u001b[0m\u001b[0mCountry1\u001b[0m\u001b[0;34m)\u001b[0m\u001b[0;34m\u001b[0m\u001b[0;34m\u001b[0m\u001b[0m\n\u001b[0m",
            "\u001b[0;31mNameError\u001b[0m: name 'Country1' is not defined"
          ]
        }
      ]
    },
    {
      "cell_type": "code",
      "source": [],
      "metadata": {
        "id": "TYp7xp1a_ZqG"
      },
      "execution_count": null,
      "outputs": []
    },
    {
      "cell_type": "markdown",
      "source": [
        "#### 3. Sets"
      ],
      "metadata": {
        "id": "N0yMUoxJ_cub"
      }
    },
    {
      "cell_type": "code",
      "source": [
        "# Sets - collection of items which are not in order\n",
        "# but we cannot change the items in set but we can the add or remove\n",
        "# Elements cannot be duplicated\n",
        "# also there is no indexing or slicing\n",
        "# useig {}, Union, Intersections, difference"
      ],
      "metadata": {
        "id": "k6LbX_t0_kQ7"
      },
      "execution_count": 177,
      "outputs": []
    },
    {
      "cell_type": "code",
      "source": [
        "temp = [['Mary',101,26],\n",
        "        ['Alex',102,27]]\n",
        "print(temp)"
      ],
      "metadata": {
        "colab": {
          "base_uri": "https://localhost:8080/"
        },
        "id": "Ntb4W557_n9K",
        "outputId": "48214021-64b9-4af9-9a01-72cea8621496"
      },
      "execution_count": 178,
      "outputs": [
        {
          "output_type": "stream",
          "name": "stdout",
          "text": [
            "[['Mary', 101, 26], ['Alex', 102, 27]]\n"
          ]
        }
      ]
    },
    {
      "cell_type": "code",
      "source": [
        "countries = {'USA', 'China', 'Philippine', 'India', 'Singapore', 'Japan'}\n",
        "print(countries)\n",
        "print(type(countries))"
      ],
      "metadata": {
        "colab": {
          "base_uri": "https://localhost:8080/"
        },
        "id": "ROdKrkoz_rvk",
        "outputId": "3a8a92d1-f14f-4b5a-bd28-37c7ae24e108"
      },
      "execution_count": 179,
      "outputs": [
        {
          "output_type": "stream",
          "name": "stdout",
          "text": [
            "{'Philippine', 'India', 'USA', 'China', 'Japan', 'Singapore'}\n",
            "<class 'set'>\n"
          ]
        }
      ]
    },
    {
      "cell_type": "code",
      "source": [
        "print(len(countries))"
      ],
      "metadata": {
        "colab": {
          "base_uri": "https://localhost:8080/"
        },
        "id": "claQ243E_vEH",
        "outputId": "8ac0d8d7-cb91-46f5-bb50-92045849568d"
      },
      "execution_count": 180,
      "outputs": [
        {
          "output_type": "stream",
          "name": "stdout",
          "text": [
            "6\n"
          ]
        }
      ]
    },
    {
      "cell_type": "code",
      "source": [
        "# adding an element\n",
        "countries.add(\"Germany\")\n",
        "print(countries)"
      ],
      "metadata": {
        "colab": {
          "base_uri": "https://localhost:8080/"
        },
        "id": "Uo3oesmN_zPp",
        "outputId": "c2209c1a-e1c4-403f-8560-4faeaf4cf6dc"
      },
      "execution_count": 181,
      "outputs": [
        {
          "output_type": "stream",
          "name": "stdout",
          "text": [
            "{'Philippine', 'India', 'USA', 'Germany', 'China', 'Japan', 'Singapore'}\n"
          ]
        }
      ]
    },
    {
      "cell_type": "code",
      "source": [
        "#deleting the element\n",
        "countries.discard(\"Germany\")\n",
        "print(countries)"
      ],
      "metadata": {
        "colab": {
          "base_uri": "https://localhost:8080/"
        },
        "id": "T2P3BUm9_3gh",
        "outputId": "bcbc6b5f-4e85-440a-f566-7cf112e4d88a"
      },
      "execution_count": 182,
      "outputs": [
        {
          "output_type": "stream",
          "name": "stdout",
          "text": [
            "{'Philippine', 'India', 'USA', 'China', 'Japan', 'Singapore'}\n"
          ]
        }
      ]
    },
    {
      "cell_type": "code",
      "source": [
        "# Other Sets Operations\n",
        "country_1 = {'USA', 'China', 'India', 'Japan', 'Singapore', 'Philippine'}\n",
        "country_2 = {\"India\",'Singapore','Germany','Indonesia'}\n",
        "Setof_Country= country_1.union(country_2)\n",
        "print(Setof_Country)"
      ],
      "metadata": {
        "colab": {
          "base_uri": "https://localhost:8080/"
        },
        "id": "AeyscQvy_6nw",
        "outputId": "83588e29-d2e4-486c-9a0a-a344744eb4f8"
      },
      "execution_count": 183,
      "outputs": [
        {
          "output_type": "stream",
          "name": "stdout",
          "text": [
            "{'Philippine', 'India', 'USA', 'Germany', 'Japan', 'Singapore', 'Indonesia', 'China'}\n"
          ]
        }
      ]
    },
    {
      "cell_type": "code",
      "source": [
        "print(country_1 | country_2)"
      ],
      "metadata": {
        "colab": {
          "base_uri": "https://localhost:8080/"
        },
        "id": "ufbFy8CJ__EO",
        "outputId": "ae3c02a1-3a3f-4ea1-b4c4-eb4721ffb3bd"
      },
      "execution_count": 184,
      "outputs": [
        {
          "output_type": "stream",
          "name": "stdout",
          "text": [
            "{'Philippine', 'India', 'USA', 'Germany', 'Japan', 'Singapore', 'Indonesia', 'China'}\n"
          ]
        }
      ]
    },
    {
      "cell_type": "code",
      "source": [
        "# intersection\n",
        "print(country_1.intersection(country_2))"
      ],
      "metadata": {
        "colab": {
          "base_uri": "https://localhost:8080/"
        },
        "id": "2n8i3XaGABzi",
        "outputId": "dcb0b115-8e22-41d1-89de-151165d6f5c9"
      },
      "execution_count": 185,
      "outputs": [
        {
          "output_type": "stream",
          "name": "stdout",
          "text": [
            "{'India', 'Singapore'}\n"
          ]
        }
      ]
    },
    {
      "cell_type": "code",
      "source": [
        "print(country_1 & country_2)"
      ],
      "metadata": {
        "colab": {
          "base_uri": "https://localhost:8080/"
        },
        "id": "soM6utcNAKJ8",
        "outputId": "432224e2-4ee3-4389-c3e0-2fbd3d61ca78"
      },
      "execution_count": 186,
      "outputs": [
        {
          "output_type": "stream",
          "name": "stdout",
          "text": [
            "{'India', 'Singapore'}\n"
          ]
        }
      ]
    },
    {
      "cell_type": "code",
      "source": [
        "print(country_2.difference(country_1))\n",
        "print(country_1.difference(country_2))"
      ],
      "metadata": {
        "colab": {
          "base_uri": "https://localhost:8080/"
        },
        "id": "f9br41PMAV6I",
        "outputId": "61962cb2-d886-4e32-a277-b98b2c8a4f93"
      },
      "execution_count": 187,
      "outputs": [
        {
          "output_type": "stream",
          "name": "stdout",
          "text": [
            "{'Indonesia', 'Germany'}\n",
            "{'Philippine', 'USA', 'Japan', 'China'}\n"
          ]
        }
      ]
    },
    {
      "cell_type": "code",
      "source": [
        "set_ex = {11,22,67,54}\n",
        "output_set = 78 in set_ex\n",
        "print(output_set)"
      ],
      "metadata": {
        "colab": {
          "base_uri": "https://localhost:8080/"
        },
        "id": "-mQzoHDAAZlc",
        "outputId": "6d5cc98c-4b23-4719-82b0-2a982a0b6487"
      },
      "execution_count": 188,
      "outputs": [
        {
          "output_type": "stream",
          "name": "stdout",
          "text": [
            "False\n"
          ]
        }
      ]
    },
    {
      "cell_type": "code",
      "source": [
        "output_set = 78 not in set_ex\n",
        "print(output_set)"
      ],
      "metadata": {
        "colab": {
          "base_uri": "https://localhost:8080/"
        },
        "id": "vBzh3dAYAeED",
        "outputId": "3303712e-e330-4fa2-9f6b-100d84507482"
      },
      "execution_count": 189,
      "outputs": [
        {
          "output_type": "stream",
          "name": "stdout",
          "text": [
            "True\n"
          ]
        }
      ]
    },
    {
      "cell_type": "code",
      "source": [
        "# Upfating the set\n",
        "country_2 = {\"India\",'Singapore','Germany','Indonesia'}\n",
        "update_set = {'Africa','Malaysia','India'}\n",
        "country_2.update(update_set)\n",
        "print(country_2)"
      ],
      "metadata": {
        "colab": {
          "base_uri": "https://localhost:8080/"
        },
        "id": "hUOEkVqSAgfP",
        "outputId": "6b40915f-ed7a-4f6e-c312-d381042f55eb"
      },
      "execution_count": 190,
      "outputs": [
        {
          "output_type": "stream",
          "name": "stdout",
          "text": [
            "{'India', 'Indonesia', 'Malaysia', 'Africa', 'Singapore', 'Germany'}\n"
          ]
        }
      ]
    },
    {
      "cell_type": "code",
      "source": [
        "country_2.clear()\n",
        "print(country_2)"
      ],
      "metadata": {
        "colab": {
          "base_uri": "https://localhost:8080/"
        },
        "id": "NKC1jb5PAi4n",
        "outputId": "9b5e3473-c26d-4ae9-fbc5-0fb0fa29f273"
      },
      "execution_count": 191,
      "outputs": [
        {
          "output_type": "stream",
          "name": "stdout",
          "text": [
            "set()\n"
          ]
        }
      ]
    },
    {
      "cell_type": "markdown",
      "source": [
        "##### 4) Dictionary"
      ],
      "metadata": {
        "id": "1BE1A8LyApWQ"
      }
    },
    {
      "cell_type": "code",
      "source": [
        "# Dictionary - collection of elements, keys and values pair, key and value are separated by :.\n",
        "# it is mutable and unordered,\n",
        "# if we want to access the elements then we use key"
      ],
      "metadata": {
        "id": "-_8-JrmSAutT"
      },
      "execution_count": 192,
      "outputs": []
    },
    {
      "cell_type": "code",
      "source": [
        "emp_dict = {'Name':'john','age':25,'Dept':'sales'}\n",
        "print(emp_dict)\n",
        "\n"
      ],
      "metadata": {
        "colab": {
          "base_uri": "https://localhost:8080/"
        },
        "id": "IPda9HbFAzQ5",
        "outputId": "b45c0c6c-2f31-4ee3-9bc7-27e1170a294a"
      },
      "execution_count": 193,
      "outputs": [
        {
          "output_type": "stream",
          "name": "stdout",
          "text": [
            "{'Name': 'john', 'age': 25, 'Dept': 'sales'}\n"
          ]
        }
      ]
    },
    {
      "cell_type": "code",
      "source": [
        "print(emp_dict['Name'])"
      ],
      "metadata": {
        "colab": {
          "base_uri": "https://localhost:8080/"
        },
        "id": "70UUahWVA49I",
        "outputId": "a5aaebbd-572f-4469-891f-78cbba716a74"
      },
      "execution_count": 194,
      "outputs": [
        {
          "output_type": "stream",
          "name": "stdout",
          "text": [
            "john\n"
          ]
        }
      ]
    },
    {
      "cell_type": "code",
      "source": [
        "emp_dict['age']=29\n",
        "print(emp_dict['age'])"
      ],
      "metadata": {
        "colab": {
          "base_uri": "https://localhost:8080/"
        },
        "id": "ISKWXm7XA7g4",
        "outputId": "48db1b61-8a90-4375-f05d-1cb80a2b031c"
      },
      "execution_count": 195,
      "outputs": [
        {
          "output_type": "stream",
          "name": "stdout",
          "text": [
            "29\n"
          ]
        }
      ]
    },
    {
      "cell_type": "code",
      "source": [
        "print(len(emp_dict))"
      ],
      "metadata": {
        "colab": {
          "base_uri": "https://localhost:8080/"
        },
        "id": "fqbSRu-JA919",
        "outputId": "2151d6d6-d54d-42dc-ea48-22d977331338"
      },
      "execution_count": 196,
      "outputs": [
        {
          "output_type": "stream",
          "name": "stdout",
          "text": [
            "3\n"
          ]
        }
      ]
    },
    {
      "cell_type": "code",
      "source": [
        "key = emp_dict.keys()\n",
        "print(key)"
      ],
      "metadata": {
        "colab": {
          "base_uri": "https://localhost:8080/"
        },
        "id": "GKB0E_E3BBif",
        "outputId": "e78ef45f-b263-4ebf-935c-2e5f461b79cb"
      },
      "execution_count": 197,
      "outputs": [
        {
          "output_type": "stream",
          "name": "stdout",
          "text": [
            "dict_keys(['Name', 'age', 'Dept'])\n"
          ]
        }
      ]
    },
    {
      "cell_type": "code",
      "source": [
        "emp_dict"
      ],
      "metadata": {
        "colab": {
          "base_uri": "https://localhost:8080/"
        },
        "id": "sPV2iK7uBEzT",
        "outputId": "7c83f8ad-635f-4cc7-808f-062b2051104d"
      },
      "execution_count": 198,
      "outputs": [
        {
          "output_type": "execute_result",
          "data": {
            "text/plain": [
              "{'Name': 'john', 'age': 29, 'Dept': 'sales'}"
            ]
          },
          "metadata": {},
          "execution_count": 198
        }
      ]
    },
    {
      "cell_type": "code",
      "source": [
        "emp_dict = {'Name':'john','age':25,'Dept':'sales','Dept': 'HR'}\n",
        "print(emp_dict)"
      ],
      "metadata": {
        "colab": {
          "base_uri": "https://localhost:8080/"
        },
        "id": "kV-lWiMQBJxh",
        "outputId": "bf3cc8d1-3d8c-4859-be2f-4bea4932de14"
      },
      "execution_count": 199,
      "outputs": [
        {
          "output_type": "stream",
          "name": "stdout",
          "text": [
            "{'Name': 'john', 'age': 25, 'Dept': 'HR'}\n"
          ]
        }
      ]
    },
    {
      "cell_type": "code",
      "source": [
        "print(type(emp_dict))"
      ],
      "metadata": {
        "colab": {
          "base_uri": "https://localhost:8080/"
        },
        "id": "CoPWUQgnBLa5",
        "outputId": "769b548d-8144-4747-83d6-d4d6ba17b62c"
      },
      "execution_count": 200,
      "outputs": [
        {
          "output_type": "stream",
          "name": "stdout",
          "text": [
            "<class 'dict'>\n"
          ]
        }
      ]
    },
    {
      "cell_type": "code",
      "source": [
        "emp = dict(name='Mary',age=25,id=101)\n",
        "print(emp)"
      ],
      "metadata": {
        "colab": {
          "base_uri": "https://localhost:8080/"
        },
        "id": "1CITDINfBQMs",
        "outputId": "40ffa539-15f4-4846-e37e-5b979bf5f58f"
      },
      "execution_count": 201,
      "outputs": [
        {
          "output_type": "stream",
          "name": "stdout",
          "text": [
            "{'name': 'Mary', 'age': 25, 'id': 101}\n"
          ]
        }
      ]
    },
    {
      "cell_type": "code",
      "source": [
        "v = emp.values()\n",
        "print(v)\n",
        "print(emp.items())\n",
        "print()"
      ],
      "metadata": {
        "colab": {
          "base_uri": "https://localhost:8080/"
        },
        "id": "RGXuhQfZBS_y",
        "outputId": "3d6d665c-fbd8-4796-aefc-3255b572ace4"
      },
      "execution_count": 202,
      "outputs": [
        {
          "output_type": "stream",
          "name": "stdout",
          "text": [
            "dict_values(['Mary', 25, 101])\n",
            "dict_items([('name', 'Mary'), ('age', 25), ('id', 101)])\n",
            "\n"
          ]
        }
      ]
    },
    {
      "cell_type": "code",
      "source": [
        "# Nested Dictionary\n",
        "\n",
        "Company = {'emp1':{'name':'Daniel','year':2018},\n",
        "           'emp2':{'name':'Jimmy','year':2020},\n",
        "           'emp3':{'name':'John','year':2022}}\n",
        "print(Company)"
      ],
      "metadata": {
        "colab": {
          "base_uri": "https://localhost:8080/"
        },
        "id": "lmLlVIStBVnC",
        "outputId": "b83a8249-2819-4e9a-f5fd-b46b1640d03f"
      },
      "execution_count": 203,
      "outputs": [
        {
          "output_type": "stream",
          "name": "stdout",
          "text": [
            "{'emp1': {'name': 'Daniel', 'year': 2018}, 'emp2': {'name': 'Jimmy', 'year': 2020}, 'emp3': {'name': 'John', 'year': 2022}}\n"
          ]
        }
      ]
    },
    {
      "cell_type": "code",
      "source": [
        "del emp['age']\n",
        "print(emp)"
      ],
      "metadata": {
        "colab": {
          "base_uri": "https://localhost:8080/"
        },
        "id": "7G0wW1QdBhRi",
        "outputId": "8966f6f6-9259-47a4-f653-4464b5f3859f"
      },
      "execution_count": 204,
      "outputs": [
        {
          "output_type": "stream",
          "name": "stdout",
          "text": [
            "{'name': 'Mary', 'id': 101}\n"
          ]
        }
      ]
    },
    {
      "cell_type": "code",
      "source": [
        "print(emp.pop('id'))"
      ],
      "metadata": {
        "colab": {
          "base_uri": "https://localhost:8080/"
        },
        "id": "UMiL7LSzBj5U",
        "outputId": "eaf1b50b-310c-4268-beca-fd13780b9d90"
      },
      "execution_count": 205,
      "outputs": [
        {
          "output_type": "stream",
          "name": "stdout",
          "text": [
            "101\n"
          ]
        }
      ]
    },
    {
      "cell_type": "code",
      "source": [
        "emp.clear()"
      ],
      "metadata": {
        "id": "Kl1ghVDNBm6L"
      },
      "execution_count": 206,
      "outputs": []
    },
    {
      "cell_type": "code",
      "source": [
        "del emp\n",
        "print(emp)"
      ],
      "metadata": {
        "colab": {
          "base_uri": "https://localhost:8080/",
          "height": 193
        },
        "id": "vjbA1jTqBrMB",
        "outputId": "940dec35-76a2-45ad-a97d-43da6f7ed86e"
      },
      "execution_count": 207,
      "outputs": [
        {
          "output_type": "error",
          "ename": "NameError",
          "evalue": "ignored",
          "traceback": [
            "\u001b[0;31m---------------------------------------------------------------------------\u001b[0m",
            "\u001b[0;31mNameError\u001b[0m                                 Traceback (most recent call last)",
            "\u001b[0;32m<ipython-input-207-4d1b571b629d>\u001b[0m in \u001b[0;36m<cell line: 2>\u001b[0;34m()\u001b[0m\n\u001b[1;32m      1\u001b[0m \u001b[0;32mdel\u001b[0m \u001b[0memp\u001b[0m\u001b[0;34m\u001b[0m\u001b[0;34m\u001b[0m\u001b[0m\n\u001b[0;32m----> 2\u001b[0;31m \u001b[0mprint\u001b[0m\u001b[0;34m(\u001b[0m\u001b[0memp\u001b[0m\u001b[0;34m)\u001b[0m\u001b[0;34m\u001b[0m\u001b[0;34m\u001b[0m\u001b[0m\n\u001b[0m",
            "\u001b[0;31mNameError\u001b[0m: name 'emp' is not defined"
          ]
        }
      ]
    },
    {
      "cell_type": "code",
      "source": [
        "empName = Company['emp1']['name']\n",
        "print(empName)"
      ],
      "metadata": {
        "colab": {
          "base_uri": "https://localhost:8080/"
        },
        "id": "p2xB4nJDBt27",
        "outputId": "ab6c2b08-8a22-4b79-e162-05de01d63e39"
      },
      "execution_count": 208,
      "outputs": [
        {
          "output_type": "stream",
          "name": "stdout",
          "text": [
            "Daniel\n"
          ]
        }
      ]
    },
    {
      "cell_type": "code",
      "source": [],
      "metadata": {
        "id": "iSNRq8JBBy-C"
      },
      "execution_count": null,
      "outputs": []
    }
  ]
}